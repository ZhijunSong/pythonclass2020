{
 "cells": [
  {
   "cell_type": "markdown",
   "metadata": {},
   "source": [
    "## Live Code: Python Sets\n",
    "\n",
    "In this example we'll play around with call results from the [New York Times Books API](https://developer.nytimes.com/docs/books-product/1/overview) to demonstrate the use of __set operations__ (stay tuned for week 6, to learn more about APIs). \n",
    "\n",
    "With the Book API we can access data from the NY Times Bestseller List\n",
    "The Books API has service, that returns best sellers for a specified date and list-name.\n",
    "The request requires two parameters: {publishing date} and {list}\n",
    "\n",
    "We'll look at following categories: \n",
    "* Hardcover Fiction\n",
    "* Hardcover Nonfiction\n",
    "* Paperback Trade Fiction\n",
    "* Paperback Nonfiction\n",
    "\n",
    "These are updated weekly, we’ll look at lists of the current and previous week for comparison.\n",
    "\n",
    "In the first part of this code we'll create sets of titles for each category and week, in the second section we'll make use of set operations to get insights about the bestsellers. \n",
    "\n",
    "Things that we cand find out:\n",
    "- which books have stayed in the top 15 compared to the previous week? \n",
    "- which titles are newcomers?\n",
    "- ...\n",
    "\n",
    "### Generating Sets"
   ]
  },
  {
   "cell_type": "code",
   "execution_count": 6,
   "metadata": {},
   "outputs": [],
   "source": [
    "# import requests and json libraries\n",
    "import requests\n",
    "import json\n",
    "\n",
    "# this function will make requests to the Books API\n",
    "# and generate sets of bestsellers for different lists\n",
    "# by passing 'date' as an argument, we can later call this function \n",
    "# several times for the lists of the current and the previous weeks\n",
    "def generateSets(date):\n",
    "    \n",
    "    # if you want to play around with the API, please make your own key at https://developer.nytimes.com/\n",
    "    authorized_key = \"hIuztxwsXJG9CIqWAXU5em7NFCEAWFs2\"\n",
    "    # create list of the categories we want to access:\n",
    "    # please refer to the 'class_code/nytimes_bestseller_find_lists.ipynb' notebook\n",
    "    # to understand how you can retrieve the encoded list names\n",
    "    categories = ['hardcover-fiction', 'hardcover-nonfiction', 'paperback-nonfiction', 'trade-fiction-paperback']\n",
    "    \n",
    "    \"\"\" This is an excerpt of the data structure the API will return:      \n",
    "{(...)\n",
    " (...)\n",
    " 'results': {(...)\n",
    "     (...)\n",
    "     'books': [{(...)\n",
    "         (...)\n",
    "         'title': 'LITTLE FIRES EVERYWHERE',\n",
    "         'contributor': 'by Celeste Ng',\n",
    "    \n",
    "    \"\"\"\n",
    "    \n",
    "    # our goal is to create a set for each of the above categories, \n",
    "    # containing the title of the top 15 books\n",
    "    \n",
    "    # step 1: \n",
    "    # declare a global variable, so we can access it later outside of the function\n",
    "    global bestseller_titles \n",
    "    # create an empty, nested list (one list for each category)\n",
    "    bestseller_titles = [[],[],[],[]] \n",
    "                \n",
    "    # step 2: \n",
    "    # populate those lists with the top-15 titles in the respective category\n",
    "\n",
    "    # create a variable to index the nested list\n",
    "    index = 0\n",
    "\n",
    "    for category in categories:\n",
    "        # call the API-url\n",
    "        # use string formatters to parse in the date, category, and the API-key\n",
    "        api_url = \"https://api.nytimes.com/svc/books/v3/lists/{}/{}.json?api-key={}\".format(date, category, authorized_key)\n",
    "\n",
    "        # call the API with requests\n",
    "        response = requests.get(api_url)\n",
    "        # create a variable called 'data' to hold the json formatted result\n",
    "        data = response.json()\n",
    "\n",
    "        # define the 'path' inside the json structure\n",
    "        books = data['results']['books']\n",
    "\n",
    "        for book in books:\n",
    "            # append the title to bestseller_titles at the current index\n",
    "            bestseller_titles[index].append(book['title'])\n",
    "        \n",
    "        # +1 to jump to the next nested list\n",
    "        index += 1\n",
    "    print(bestseller_titles)"
   ]
  },
  {
   "cell_type": "code",
   "execution_count": 7,
   "metadata": {},
   "outputs": [
    {
     "name": "stdout",
     "output_type": "stream",
     "text": [
      "[['WHERE THE CRAWDADS SING', 'CAMINO WINDS', 'THE VANISHING HALF', 'THE SUMMER HOUSE', \"DADDY'S GIRLS\", 'FAIR WARNING', 'IF IT BLEEDS', 'TOM CLANCY: FIRING POINT', 'HIDEAWAY', 'THE GUEST LIST', 'WALK THE WIRE', 'BIG SUMMER', 'AMERICAN DIRT', 'THE LIES THAT BIND', 'THE DAUGHTERS OF ERIETOWN'], ['HOW TO BE AN ANTIRACIST', 'COUNTDOWN 1945', 'UNTAMED', 'BETWEEN THE WORLD AND ME', 'BECOMING', 'THE SPLENDID AND THE VILE', 'OUR TIME IS NOW', 'EDUCATED', 'UNITED STATES OF SOCIALISM', 'ME AND WHITE SUPREMACY', 'THE MAMBA MENTALITY', \"I'M STILL HERE\", 'THE DEFICIT MYTH', 'MY VANISHING COUNTRY', 'FORTITUDE'], ['SO YOU WANT TO TALK ABOUT RACE', 'WHITE FRAGILITY', 'STAMPED FROM THE BEGINNING', 'WHY ARE ALL THE BLACK KIDS SITTING TOGETHER IN THE CAFETERIA?', 'JUST MERCY', 'THE COLOR OF LAW', 'THE NEW JIM CROW', 'WHITE RAGE', 'BORN A CRIME', 'RAISING WHITE KIDS', 'THE BODY KEEPS THE SCORE', 'WAKING UP WHITE', 'THE COLOR OF COMPROMISE', \"WHY I'M NO LONGER TALKING TO WHITE PEOPLE ABOUT RACE\", 'THE GREAT INFLUENZA'], ['LITTLE FIRES EVERYWHERE', 'THEN SHE WAS GONE', 'NORMAL PEOPLE', 'CIRCE', 'A MINUTE TO MIDNIGHT', 'HUSH', 'THE WOMAN IN THE WINDOW', 'THE TATTOOIST OF AUSCHWITZ', 'BEFORE WE WERE YOURS', 'THE BLUEST EYE', 'THE FAMILY UPSTAIRS', 'A GENTLEMAN IN MOSCOW', \"THE HANDMAID'S TALE\", 'ELEANOR OLIPHANT IS COMPLETELY FINE', 'THE NIGHTINGALE']]\n"
     ]
    }
   ],
   "source": [
    "# call the generateSets() function \n",
    "# with 'date' = 'current' to recieve this week's bestseller list\n",
    "generateSets('current')"
   ]
  },
  {
   "cell_type": "code",
   "execution_count": 8,
   "metadata": {},
   "outputs": [
    {
     "name": "stdout",
     "output_type": "stream",
     "text": [
      "[['WHERE THE CRAWDADS SING', 'HIDEAWAY', 'FAIR WARNING', 'CAMINO WINDS', 'IF IT BLEEDS', 'BIG SUMMER', 'AMERICAN DIRT', 'WALK THE WIRE', 'ALL ADULTS HERE', 'THE 20TH VICTIM', 'THE SILENT PATIENT', 'THE GIVER OF STARS', 'THE BOOK OF LONGINGS', 'WRATH OF POSEIDON', 'THE LAST TRIAL'], ['UNTAMED', 'PLAGUE OF CORRUPTION', 'BECOMING', 'THE SPLENDID AND THE VILE', 'HOW TO BE AN ANTIRACIST', 'BREATH', 'EDUCATED', 'HOLLYWOOD PARK', 'AMERICAN CRUSADE', 'ME AND WHITE SUPREMACY', 'FORTITUDE', 'THE MAMBA MENTALITY', 'HIDDEN VALLEY ROAD', 'THE CHIFFON TRENCHES', 'MY VANISHING COUNTRY'], ['WHITE FRAGILITY', 'THE GREAT INFLUENZA', 'THE NEW JIM CROW', 'THE BODY KEEPS THE SCORE', 'SO YOU WANT TO TALK ABOUT RACE', 'JUST MERCY', 'A WOMAN OF NO IMPORTANCE', 'UNORTHODOX', 'BORN A CRIME', 'SAPIENS', 'BRAIDING SWEETGRASS', 'GRIT', 'OUTLIERS', 'THE COLOR OF LAW', 'THINKING, FAST AND SLOW'], ['LITTLE FIRES EVERYWHERE', 'NORMAL PEOPLE', 'THEN SHE WAS GONE', 'THE WOMAN IN THE WINDOW', 'THE TATTOOIST OF AUSCHWITZ', 'CIRCE', 'THIS TENDER LAND', 'BEFORE WE WERE YOURS', 'THE NIGHTINGALE', 'BEACH READ', 'CITY OF GIRLS', 'THE OVERSTORY', 'A GENTLEMAN IN MOSCOW', 'THE BOOK WOMAN OF TROUBLESOME CREEK', 'CALL ME BY YOUR NAME']]\n"
     ]
    }
   ],
   "source": [
    "# call the generateSets() function again\n",
    "# with 'date' = '2020-06-14' to recieve last week's bestseller list\n",
    "generateSets('2020-06-14')"
   ]
  },
  {
   "cell_type": "code",
   "execution_count": 9,
   "metadata": {},
   "outputs": [
    {
     "name": "stdout",
     "output_type": "stream",
     "text": [
      "Hardcover Fiction, June 21:\n",
      " {'THE SILENT PATIENT', 'WALK THE WIRE', 'WHERE THE CRAWDADS SING', 'THE BOOK OF LONGINGS', 'IF IT BLEEDS', 'CAMINO WINDS', 'THE GIVER OF STARS', 'BIG SUMMER', 'THE LAST TRIAL', 'HIDEAWAY', 'AMERICAN DIRT', 'WRATH OF POSEIDON', 'FAIR WARNING', 'ALL ADULTS HERE', 'THE 20TH VICTIM'}\n",
      "\n",
      "Hardcover Nonfiction, June 21:\n",
      " {'THE MAMBA MENTALITY', 'HIDDEN VALLEY ROAD', 'MY VANISHING COUNTRY', 'HOW TO BE AN ANTIRACIST', 'HOLLYWOOD PARK', 'PLAGUE OF CORRUPTION', 'THE SPLENDID AND THE VILE', 'BREATH', 'FORTITUDE', 'EDUCATED', 'AMERICAN CRUSADE', 'BECOMING', 'THE CHIFFON TRENCHES', 'ME AND WHITE SUPREMACY', 'UNTAMED'}\n",
      "\n",
      "Paperback Nonfiction, June 21:\n",
      " {'THINKING, FAST AND SLOW', 'SO YOU WANT TO TALK ABOUT RACE', 'UNORTHODOX', 'JUST MERCY', 'GRIT', 'THE GREAT INFLUENZA', 'THE BODY KEEPS THE SCORE', 'BRAIDING SWEETGRASS', 'THE COLOR OF LAW', 'A WOMAN OF NO IMPORTANCE', 'WHITE FRAGILITY', 'SAPIENS', 'BORN A CRIME', 'OUTLIERS', 'THE NEW JIM CROW'}\n",
      "\n",
      "Paperback Fiction, June 21:\n",
      " {'THIS TENDER LAND', 'NORMAL PEOPLE', 'LITTLE FIRES EVERYWHERE', 'THEN SHE WAS GONE', 'BEACH READ', 'THE NIGHTINGALE', 'THE WOMAN IN THE WINDOW', 'CIRCE', 'THE OVERSTORY', 'A GENTLEMAN IN MOSCOW', 'CALL ME BY YOUR NAME', 'CITY OF GIRLS', 'BEFORE WE WERE YOURS', 'THE TATTOOIST OF AUSCHWITZ', 'THE BOOK WOMAN OF TROUBLESOME CREEK'}\n"
     ]
    }
   ],
   "source": [
    "# create a set from each nested list\n",
    "hc_fiction_jun21 = set(bestseller_titles[0]) \n",
    "hc_nonfiction_jun21 = set(bestseller_titles[1])\n",
    "pb_nonfiction_jun21 = set(bestseller_titles[2])\n",
    "pb_fiction_jun21 = set(bestseller_titles[3])\n",
    "\n",
    "print('Hardcover Fiction, June 21:\\n', hc_fiction_jun21)\n",
    "print('\\nHardcover Nonfiction, June 21:\\n', hc_nonfiction_jun21)\n",
    "print('\\nPaperback Nonfiction, June 21:\\n', pb_nonfiction_jun21)\n",
    "print('\\nPaperback Fiction, June 21:\\n', pb_fiction_jun21)"
   ]
  },
  {
   "cell_type": "code",
   "execution_count": 10,
   "metadata": {},
   "outputs": [
    {
     "name": "stdout",
     "output_type": "stream",
     "text": [
      "Hardcover Fiction, June 14:\n",
      " {'THE SILENT PATIENT', 'WALK THE WIRE', 'WHERE THE CRAWDADS SING', 'THE BOOK OF LONGINGS', 'IF IT BLEEDS', 'CAMINO WINDS', 'THE GIVER OF STARS', 'BIG SUMMER', 'THE LAST TRIAL', 'HIDEAWAY', 'AMERICAN DIRT', 'WRATH OF POSEIDON', 'FAIR WARNING', 'ALL ADULTS HERE', 'THE 20TH VICTIM'}\n",
      "\n",
      "Hardcover Nonfiction, June 14:\n",
      " {'THE MAMBA MENTALITY', 'HIDDEN VALLEY ROAD', 'MY VANISHING COUNTRY', 'HOW TO BE AN ANTIRACIST', 'HOLLYWOOD PARK', 'PLAGUE OF CORRUPTION', 'THE SPLENDID AND THE VILE', 'BREATH', 'FORTITUDE', 'EDUCATED', 'AMERICAN CRUSADE', 'BECOMING', 'THE CHIFFON TRENCHES', 'ME AND WHITE SUPREMACY', 'UNTAMED'}\n",
      "\n",
      "Paperback Nonfiction, June 14:\n",
      " {'THINKING, FAST AND SLOW', 'SO YOU WANT TO TALK ABOUT RACE', 'UNORTHODOX', 'JUST MERCY', 'GRIT', 'THE GREAT INFLUENZA', 'THE BODY KEEPS THE SCORE', 'BRAIDING SWEETGRASS', 'THE COLOR OF LAW', 'A WOMAN OF NO IMPORTANCE', 'WHITE FRAGILITY', 'SAPIENS', 'BORN A CRIME', 'OUTLIERS', 'THE NEW JIM CROW'}\n",
      "\n",
      "Paperback Fiction, June 14:\n",
      " {'THIS TENDER LAND', 'NORMAL PEOPLE', 'LITTLE FIRES EVERYWHERE', 'THEN SHE WAS GONE', 'BEACH READ', 'THE NIGHTINGALE', 'THE WOMAN IN THE WINDOW', 'CIRCE', 'THE OVERSTORY', 'A GENTLEMAN IN MOSCOW', 'CALL ME BY YOUR NAME', 'CITY OF GIRLS', 'BEFORE WE WERE YOURS', 'THE TATTOOIST OF AUSCHWITZ', 'THE BOOK WOMAN OF TROUBLESOME CREEK'}\n"
     ]
    }
   ],
   "source": [
    "# create a set from each nested list\n",
    "hc_fiction_jun14 = set(bestseller_titles[0]) \n",
    "hc_nonfiction_jun14 = set(bestseller_titles[1]) \n",
    "pb_nonfiction_jun14 = set(bestseller_titles[2]) \n",
    "pb_fiction_jun14 = set(bestseller_titles[3]) \n",
    "\n",
    "print('Hardcover Fiction, June 14:\\n', hc_fiction_jun14)\n",
    "print('\\nHardcover Nonfiction, June 14:\\n', hc_nonfiction_jun14)\n",
    "print('\\nPaperback Nonfiction, June 14:\\n', pb_nonfiction_jun14)\n",
    "print('\\nPaperback Fiction, June 14:\\n', pb_fiction_jun14)"
   ]
  },
  {
   "cell_type": "markdown",
   "metadata": {},
   "source": [
    "## Set Operations\n",
    "\n",
    "Now that we have declared multiple sets of books, let's make use of set operations to get insights about the bestsellers."
   ]
  },
  {
   "cell_type": "code",
   "execution_count": 11,
   "metadata": {},
   "outputs": [
    {
     "name": "stdout",
     "output_type": "stream",
     "text": [
      "{'THE SILENT PATIENT', 'WALK THE WIRE', 'WHERE THE CRAWDADS SING', 'THE BOOK OF LONGINGS', 'FAIR WARNING', 'IF IT BLEEDS', 'CAMINO WINDS', 'BIG SUMMER', 'THE LAST TRIAL', 'HIDEAWAY', 'AMERICAN DIRT', 'WRATH OF POSEIDON', 'THE GIVER OF STARS', 'ALL ADULTS HERE', 'THE 20TH VICTIM'}\n"
     ]
    }
   ],
   "source": [
    "# create an intersection function\n",
    "def intersection(A,B):\n",
    "    inter =A&B\n",
    "    print(inter)\n",
    "\n",
    "intersection(hc_fiction_jun21,hc_fiction_jun14)"
   ]
  },
  {
   "cell_type": "code",
   "execution_count": 25,
   "metadata": {},
   "outputs": [
    {
     "name": "stdout",
     "output_type": "stream",
     "text": [
      "set()\n"
     ]
    }
   ],
   "source": [
    "# create a difference function\n",
    "def difference(A,B):\n",
    "    diff=A-B\n",
    "    print(diff)\n",
    "    \n",
    "difference(hc_fiction_jun14,hc_fiction_jun21)"
   ]
  },
  {
   "cell_type": "code",
   "execution_count": 22,
   "metadata": {},
   "outputs": [
    {
     "name": "stdout",
     "output_type": "stream",
     "text": [
      "{'THE SILENT PATIENT', 'WHERE THE CRAWDADS SING', 'THE BOOK OF LONGINGS', 'IF IT BLEEDS', 'BIG SUMMER', 'THE LAST TRIAL', 'HIDEAWAY', 'AMERICAN DIRT', 'WALK THE WIRE', 'FAIR WARNING', 'CAMINO WINDS', 'WRATH OF POSEIDON', 'THE GIVER OF STARS', 'ALL ADULTS HERE', 'THE 20TH VICTIM'}\n"
     ]
    }
   ],
   "source": [
    "# create a union function \n",
    "def union(A,B):\n",
    "    uni= A|B\n",
    "    print(uni)\n",
    "union(hc_fiction_jun21,hc_fiction_jun14)\n"
   ]
  },
  {
   "cell_type": "code",
   "execution_count": 24,
   "metadata": {},
   "outputs": [
    {
     "data": {
      "text/plain": [
       "{'A WOMAN OF NO IMPORTANCE',\n",
       " 'ALL ADULTS HERE',\n",
       " 'AMERICAN DIRT',\n",
       " 'BIG SUMMER',\n",
       " 'BORN A CRIME',\n",
       " 'BRAIDING SWEETGRASS',\n",
       " 'CAMINO WINDS',\n",
       " 'FAIR WARNING',\n",
       " 'GRIT',\n",
       " 'HIDEAWAY',\n",
       " 'IF IT BLEEDS',\n",
       " 'JUST MERCY',\n",
       " 'OUTLIERS',\n",
       " 'SAPIENS',\n",
       " 'SO YOU WANT TO TALK ABOUT RACE',\n",
       " 'THE 20TH VICTIM',\n",
       " 'THE BODY KEEPS THE SCORE',\n",
       " 'THE BOOK OF LONGINGS',\n",
       " 'THE COLOR OF LAW',\n",
       " 'THE GIVER OF STARS',\n",
       " 'THE GREAT INFLUENZA',\n",
       " 'THE LAST TRIAL',\n",
       " 'THE NEW JIM CROW',\n",
       " 'THE SILENT PATIENT',\n",
       " 'THINKING, FAST AND SLOW',\n",
       " 'UNORTHODOX',\n",
       " 'WALK THE WIRE',\n",
       " 'WHERE THE CRAWDADS SING',\n",
       " 'WHITE FRAGILITY',\n",
       " 'WRATH OF POSEIDON'}"
      ]
     },
     "execution_count": 24,
     "metadata": {},
     "output_type": "execute_result"
    }
   ],
   "source": [
    "# perform an operation on more than two sets\n",
    "all_fiction = hc_fiction_jun21|hc_fiction_jun14|pb_nonfiction_jun14\n",
    "all_fiction"
   ]
  },
  {
   "cell_type": "code",
   "execution_count": null,
   "metadata": {},
   "outputs": [],
   "source": []
  }
 ],
 "metadata": {
  "kernelspec": {
   "display_name": "Python 3",
   "language": "python",
   "name": "python3"
  },
  "language_info": {
   "codemirror_mode": {
    "name": "ipython",
    "version": 3
   },
   "file_extension": ".py",
   "mimetype": "text/x-python",
   "name": "python",
   "nbconvert_exporter": "python",
   "pygments_lexer": "ipython3",
   "version": "3.7.6"
  }
 },
 "nbformat": 4,
 "nbformat_minor": 2
}
