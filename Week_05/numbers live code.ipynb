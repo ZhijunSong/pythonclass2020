{
 "cells": [
  {
   "cell_type": "code",
   "execution_count": 11,
   "metadata": {},
   "outputs": [
    {
     "name": "stdout",
     "output_type": "stream",
     "text": [
      "3\n"
     ]
    }
   ],
   "source": [
    "x = 1\n",
    "y= 2\n",
    "sum = x+y\n",
    "print(sum)"
   ]
  },
  {
   "cell_type": "code",
   "execution_count": 40,
   "metadata": {},
   "outputs": [
    {
     "name": "stdout",
     "output_type": "stream",
     "text": [
      "179\n",
      "12\n",
      "182\n"
     ]
    }
   ],
   "source": [
    "class Numbers:\n",
    "    \n",
    "    def __init__(self,*arguments):\n",
    "        self.number = []\n",
    "        for argument in arguments:\n",
    "            self.addNumber(argument)\n",
    "        \n",
    "    def addNumber(self,number):\n",
    "        self.number.append(number)\n",
    "        return\n",
    "    \n",
    "    def total(self):\n",
    "        sum = 0\n",
    "        for num in self.number:\n",
    "            sum+= num\n",
    "        return sum\n",
    "    def mean(self):\n",
    "        sum =self.total()\n",
    "        numberCount = len(self.number)\n",
    "        return sum/numberCount\n",
    "    def empty(self):\n",
    "        self.number = []\n",
    "    def __len__(self):\n",
    "        return len(self.number)\n",
    "    def __add__(self,otherNumbers):\n",
    "        for number in otherNumbers.number:\n",
    "            self.addNumber(number)\n",
    "\n",
    "            \n",
    "\n",
    "        \n",
    "    \n",
    "instance = Numbers(2,3,4,5,32,52,3,52,3,23)\n",
    "instance2 = Numbers(0,3)\n",
    "print(instance.total())\n",
    "instance+instance2\n",
    "\n",
    "print(len(instance))\n",
    "print(instance.total())\n"
   ]
  },
  {
   "cell_type": "code",
   "execution_count": null,
   "metadata": {},
   "outputs": [],
   "source": []
  }
 ],
 "metadata": {
  "kernelspec": {
   "display_name": "Python 3",
   "language": "python",
   "name": "python3"
  },
  "language_info": {
   "codemirror_mode": {
    "name": "ipython",
    "version": 3
   },
   "file_extension": ".py",
   "mimetype": "text/x-python",
   "name": "python",
   "nbconvert_exporter": "python",
   "pygments_lexer": "ipython3",
   "version": "3.7.6"
  }
 },
 "nbformat": 4,
 "nbformat_minor": 4
}
