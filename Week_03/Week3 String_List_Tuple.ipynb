{
 "cells": [
  {
   "cell_type": "code",
   "execution_count": 21,
   "metadata": {},
   "outputs": [],
   "source": [
    "#Define a function\n",
    "def isPalidrome(txt):\n",
    "    \"\"\"Checks whether an inout string is a palindrome\n",
    "    \n",
    "    Argument:\n",
    "    txt(string):the phrase we want to test\n",
    "    \"\"\"\n",
    "    #change to lowercase\n",
    "    txt = txt.lower()\n",
    "    print('Lowercase: '+txt)\n",
    "    #replace all spacs with an empty string\n",
    "    txt= txt.replace(' ','')\n",
    "    print('No Spacs: '+txt)\n",
    "    #no question marks\n",
    "\n",
    "    \n",
    "    #How is the phrase selled forward?\n",
    "    forwards =txt\n",
    "    print('Forwards:' +forwards)\n",
    "    #how is it spelled backwards>\n",
    "    backwards = txt[::-1]\n",
    "    print('Backwards:' +backwards)\n",
    "\n",
    "    #if the forwards speeling is the same as the backwards speeling\n",
    "    if forwards ==backwards:\n",
    "        print(True)\n",
    "    else:\n",
    "        print(False)\n",
    "    #then its a palindrome! print true\n",
    "    #else its not print false\n",
    "    \n"
   ]
  },
  {
   "cell_type": "code",
   "execution_count": 20,
   "metadata": {},
   "outputs": [
    {
     "name": "stdout",
     "output_type": "stream",
     "text": [
      "dlroW olleH\n",
      "Lowercase: anna\n",
      "Forwards:anna\n",
      "Backwards:anna\n",
      "True\n",
      "Lowercase: race car\n",
      "Forwards:race car\n",
      "Backwards:rac ecar\n",
      "False\n"
     ]
    }
   ],
   "source": [
    "#reverse a string\n",
    "txt=\"Hello World\"[::-1]\n",
    "print(txt)\n",
    "isPalidrome('Anna')\n",
    "isPalidrome('race car')"
   ]
  },
  {
   "cell_type": "code",
   "execution_count": 23,
   "metadata": {},
   "outputs": [
    {
     "name": "stdout",
     "output_type": "stream",
     "text": [
      "hello\n"
     ]
    }
   ],
   "source": [
    "#List \n",
    "#empty list\n",
    "lists =[]\n",
    "#different data type within onelist\n",
    "my_list =['hello',2]\n",
    "print(my_list[0])\n",
    "#nested list 2d 3d list\n",
    "mylist = ['hello',[1,2,3]]\n"
   ]
  },
  {
   "cell_type": "code",
   "execution_count": 36,
   "metadata": {},
   "outputs": [
    {
     "name": "stdout",
     "output_type": "stream",
     "text": [
      "[\"It's\", 'a', 'rainy', 'day.', 'Blah.']\n"
     ]
    }
   ],
   "source": [
    "#Tuple\n",
    "my_tuple=('1','orange')\n",
    "#List vs Tuple\n",
    "# tuple is set while list could be mordified\n",
    "\n",
    "'''fixed one and size of data only need iteration/access\n",
    "(don't want things to be changed) use Tuple'''\n",
    "#for tuples\n",
    "#.index()\n",
    "#.count()\n",
    "\n",
    "\n",
    "#   .split(' ') split with space \n",
    "#covert to a list\n",
    "my_string=\"It's a rainy day. Blah.\"\n",
    "my_string=my_string.split(' ')\n",
    "print(my_string)\n"
   ]
  },
  {
   "cell_type": "code",
   "execution_count": 1,
   "metadata": {},
   "outputs": [
    {
     "name": "stdout",
     "output_type": "stream",
     "text": [
      "  .append() add elements\n",
      "    .remove('hi') remove by content\n",
      "    .pop(0) remove by index number\n",
      "    .insert(1,'whatsup')\n",
      "    .sort() sort alphabetically\n",
      "    .reverse() reverse the order of a string\n",
      "    .join() join a list\n",
      "    ///////////////////////////////////////\n",
      "    for l in my_list:\n",
      "        print(l)  print all elements with 'l'\n",
      "    my_list[-4:]\n",
      "    my_list[-5:-1] \n",
      "    my_list[3:1:-1] [start:end:step] -1 means counting backwards\n",
      "\n"
     ]
    }
   ],
   "source": [
    "#notes \n",
    "#mordified string\n",
    "\n",
    "\n",
    "print(\"\"\"  .append() add elements\n",
    "    .remove('hi') remove by content\n",
    "    .pop(0) remove by index number\n",
    "    .insert(1,'whatsup')\n",
    "    .sort() sort alphabetically\n",
    "    .reverse() reverse the order of a string\n",
    "    .join() join a list\n",
    "    ///////////////////////////////////////\n",
    "    for l in my_list:\n",
    "        print(l)  print all elements with 'l'\n",
    "    my_list[-4:]\n",
    "    my_list[-5:-1] \n",
    "    my_list[3:1:-1] [start:end:step] -1 means counting backwards\n",
    "\"\"\")\n",
    "  "
   ]
  },
  {
   "cell_type": "code",
   "execution_count": 2,
   "metadata": {},
   "outputs": [
    {
     "data": {
      "text/plain": [
       "'\\nname = \"Lan“\\nname2 = \"Anna\"\\nprint(string_template%(name,name2))\\n\\n'"
      ]
     },
     "execution_count": 2,
     "metadata": {},
     "output_type": "execute_result"
    }
   ],
   "source": [
    "#example \n",
    "\n",
    " \n",
    "\n",
    "#String Formatting\n",
    "#-% module operator %d %s %f  %s stands for a string place holder\n",
    "'''\n",
    "name = \"Lan“\n",
    "name2 = \"Anna\"\n",
    "print(string_template%(name,name2))\n",
    "\n",
    "'''"
   ]
  },
  {
   "cell_type": "code",
   "execution_count": 19,
   "metadata": {},
   "outputs": [],
   "source": [
    "import random\n",
    "def event(namelist, event_type, date, loc, items):\n",
    "    def getRand(list):\n",
    "        return random.choice(list)\n",
    "    def allItems(li):\n",
    "        return ', '.join(li[:-1]) + \", and %s\" %(li[-1])\n",
    "    \n",
    "\n",
    "        \n",
    "   # varibles needed\n",
    "    string_template ='''\n",
    "        Hey, %s!\n",
    "        You are invited to a %s! Join us on %s at %s!\n",
    "        Bring %s.\n",
    "\n",
    "        Best,\n",
    "        Party bear\n",
    "\n",
    "    '''\n",
    "    #create a guest list\n",
    "    guestlist = namelist\n",
    "    type_of_event = event_type\n",
    "    date = date\n",
    "    location = loc\n",
    "#     date = date[::-1]\n",
    "#     location = loc[::-1] # a simple reversed encrption\n",
    "    items = items\n",
    "    \n",
    "    def listAll():\n",
    "        for guests in guestlist:\n",
    "            print('You chose to load all.'+\n",
    "            string_template % (guests,type_of_event,date,location,allItems(items)))\n",
    "    def listRand(): \n",
    "        guests = random.choice(guestlist)\n",
    "#         for guests in guestlist:\n",
    "        print('You chose a random mode.'+\n",
    "        string_template % (guests,type_of_event,date,location,getRand(items)))\n",
    "#   listRand()\n",
    "    print(\"enter 1(List All) or 2(Randomizer)\")\n",
    "    choice = input()\n",
    "    if choice =='1': \n",
    "        print(\"Enter your mode:\"+ choice)\n",
    "        return listAll()\n",
    "    elif choice =='2':\n",
    "        print(\"Enter your mode:\"+ choice)\n",
    "        return listRand()\n",
    " \n",
    "\n",
    "\n",
    "\n",
    "\n",
    "\n"
   ]
  },
  {
   "cell_type": "code",
   "execution_count": 20,
   "metadata": {},
   "outputs": [
    {
     "name": "stdout",
     "output_type": "stream",
     "text": [
      "enter 1(List All) or 2(Randomizer)\n",
      "2\n",
      "Enter your mode:2\n",
      "You chose a random mode.\n",
      "        Hey, Lan!\n",
      "        You are invited to a gathering! Join us on July 2nd at Union Square!\n",
      "        Bring beverages.\n",
      "\n",
      "        Best,\n",
      "        Party bear\n",
      "\n",
      "    \n"
     ]
    }
   ],
   "source": [
    "guests = (\"Bob\",\"Mary & Friends\",\"Lan\",\"Anna\",\"Sven and friends\",\"Jason\")\n",
    "items = ['beverages','games','signs',\"masks\",\"facecovers\"]\n",
    "dates=\"July 2nd\"\n",
    "location =\"Union Square\" \n",
    "events = \"gathering\"\n",
    "# call the generator function to populate invitations:\n",
    "event(guests,events,dates,location,items)"
   ]
  },
  {
   "cell_type": "code",
   "execution_count": 21,
   "metadata": {},
   "outputs": [],
   "source": [
    "#createInvitation(a,b,c,d)\n",
    "#####this is the assignment for creating a customized invitation\n",
    "\n",
    "import random\n",
    "def createInvitation(namelist, event_type, date, loc, items):\n",
    "    def getRand(list):\n",
    "        return random.choice(list)\n",
    "    def allItems(li):\n",
    "        return ', '.join(li[:-1]) + \", and %s\" %(li[-1])\n",
    "    \n",
    "\n",
    "        \n",
    "   # varibles needed\n",
    "    string_template ='''\n",
    "        Hey, %s!\n",
    "        You are invited to a %s! Join us on %s at %s!\n",
    "        Bring %s.\n",
    "\n",
    "        Best,\n",
    "        Party bear\n",
    "\n",
    "    '''\n",
    "    #create a guest list\n",
    "    guestlist = namelist\n",
    "    type_of_event = event_type\n",
    "    date = date\n",
    "    location = loc\n",
    "#     date = date[::-1]\n",
    "#     location = loc[::-1] # a simple reversed encrption\n",
    "    items = items\n",
    "    \n",
    "    def listAll():\n",
    "        for guests in guestlist:\n",
    "            print('You chose to load all.'+\n",
    "            string_template % (guests,type_of_event,date,location,allItems(items)))\n",
    "    def listInvited(): \n",
    "        guests = guestlist[-1];\n",
    "        print(string_template % (guests,type_of_event,date,location,getRand(items)))\n",
    "    return listInvited()\n",
    " \n",
    "\n",
    "\n",
    "\n",
    "\n",
    "\n"
   ]
  },
  {
   "cell_type": "code",
   "execution_count": 13,
   "metadata": {},
   "outputs": [
    {
     "name": "stdout",
     "output_type": "stream",
     "text": [
      "Type in a name that you want to invite:\n",
      "Zhijun\n",
      "Type in a date:\n",
      "June 20th\n",
      "Type in a locatione:\n",
      "Shanghai\n",
      "You're inviting Zhijun on June 20th at/in Shanghai.\n",
      "\n",
      "        Hey, Zhijun!\n",
      "        You are invited to a gathering! Join us on June 20th at Shanghai!\n",
      "        Bring facecovers.\n",
      "\n",
      "        Best,\n",
      "        Party bear\n",
      "\n",
      "    \n"
     ]
    }
   ],
   "source": [
    "guests = []\n",
    "items = ['beverages','games','signs',\"masks\",\"facecovers\"]\n",
    "dates=[]\n",
    "location =[]\n",
    "events = \"gathering\"\n",
    "print(\"Type in a name that you want to invite:\")\n",
    "guestname =input()\n",
    "print(\"Type in a date:\")\n",
    "dateAdded =input()\n",
    "print(\"Type in a locatione:\")\n",
    "locc = input()\n",
    "\n",
    "print(\"You're inviting \"+guestname+' on '+dateAdded+' at/in '+locc+'.')\n",
    "\n",
    "guests.append(guestname)\n",
    "dates.append(dateAdded)\n",
    "location.append(locc)\n",
    "# call the generator function to populate invitations:\n",
    "createInvitation(guests,events,dates[-1],location[-1],items)"
   ]
  },
  {
   "cell_type": "code",
   "execution_count": null,
   "metadata": {},
   "outputs": [],
   "source": []
  },
  {
   "cell_type": "code",
   "execution_count": null,
   "metadata": {},
   "outputs": [],
   "source": []
  },
  {
   "cell_type": "code",
   "execution_count": null,
   "metadata": {},
   "outputs": [],
   "source": []
  }
 ],
 "metadata": {
  "kernelspec": {
   "display_name": "Python 3",
   "language": "python",
   "name": "python3"
  },
  "language_info": {
   "codemirror_mode": {
    "name": "ipython",
    "version": 3
   },
   "file_extension": ".py",
   "mimetype": "text/x-python",
   "name": "python",
   "nbconvert_exporter": "python",
   "pygments_lexer": "ipython3",
   "version": "3.7.6"
  }
 },
 "nbformat": 4,
 "nbformat_minor": 4
}
