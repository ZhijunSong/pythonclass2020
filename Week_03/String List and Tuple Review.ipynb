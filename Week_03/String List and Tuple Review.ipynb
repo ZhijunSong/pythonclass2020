{
 "cells": [
  {
   "cell_type": "code",
   "execution_count": 2,
   "metadata": {},
   "outputs": [
    {
     "name": "stdout",
     "output_type": "stream",
     "text": [
      "Hello, Anna and Lan!\n"
     ]
    }
   ],
   "source": [
    "#string formating\n",
    "\n",
    "name1 = 'Anna'\n",
    "name2 ='Lan'\n",
    "print(\"Hello, \"+ name1+' and '+name2 +\"!\")"
   ]
  },
  {
   "cell_type": "code",
   "execution_count": 3,
   "metadata": {},
   "outputs": [
    {
     "name": "stdout",
     "output_type": "stream",
     "text": [
      "my name is anna.\n",
      "My name is anna.\n",
      "MY NAME IS ANNA.\n"
     ]
    }
   ],
   "source": [
    "my_string = \"My name is Anna.\"\n",
    "\n",
    "print(my_string.lower())\n",
    "print(my_string.capitalize())\n",
    "print(my_string.upper())\n",
    "\n"
   ]
  },
  {
   "cell_type": "code",
   "execution_count": 17,
   "metadata": {},
   "outputs": [
    {
     "name": "stdout",
     "output_type": "stream",
     "text": [
      "OncE upOn a TIMe..\n",
      "ncE upOn a TIMe..\n"
     ]
    }
   ],
   "source": [
    "my_string = \"OncE upOn a TIMe..\"\n",
    "\n",
    "print(my_string)\n",
    "print(my_string.strip('O'))\n",
    "#.strip(char) get rid of "
   ]
  },
  {
   "cell_type": "code",
   "execution_count": 6,
   "metadata": {},
   "outputs": [
    {
     "name": "stdout",
     "output_type": "stream",
     "text": [
      "ELLO\n"
     ]
    }
   ],
   "source": [
    "my_string =\"Anna\"\n",
    "my_string =\"hello\"\n",
    "\n",
    "print(my_string.upper().strip('H'))"
   ]
  },
  {
   "cell_type": "code",
   "execution_count": 8,
   "metadata": {},
   "outputs": [
    {
     "name": "stdout",
     "output_type": "stream",
     "text": [
      ": 87655\n"
     ]
    }
   ],
   "source": [
    "my_string =\"The ID number is: 87655\"\n",
    "id_starts_at =my_string.find('ID')\n",
    "print(my_string[16:])"
   ]
  },
  {
   "cell_type": "code",
   "execution_count": 11,
   "metadata": {},
   "outputs": [
    {
     "name": "stdout",
     "output_type": "stream",
     "text": [
      "['apples', 'bananas', 'oranges']\n"
     ]
    },
    {
     "data": {
      "text/plain": [
       "'apples'"
      ]
     },
     "execution_count": 11,
     "metadata": {},
     "output_type": "execute_result"
    }
   ],
   "source": [
    "#list\n",
    "my_lists=['apples','bananas','oranges']\n",
    "print(my_lists)\n",
    "my_lists[0]"
   ]
  },
  {
   "cell_type": "code",
   "execution_count": 19,
   "metadata": {},
   "outputs": [
    {
     "name": "stdout",
     "output_type": "stream",
     "text": [
      "apples\n",
      "bananas\n",
      "oranges\n"
     ]
    }
   ],
   "source": [
    "for item in my_lists:\n",
    "    print(item)"
   ]
  },
  {
   "cell_type": "code",
   "execution_count": 20,
   "metadata": {},
   "outputs": [
    {
     "name": "stdout",
     "output_type": "stream",
     "text": [
      "a\n"
     ]
    }
   ],
   "source": [
    "my_string ='apples'\n",
    "print(my_string[0])"
   ]
  },
  {
   "cell_type": "code",
   "execution_count": 26,
   "metadata": {},
   "outputs": [
    {
     "name": "stdout",
     "output_type": "stream",
     "text": [
      "apples bananas oranges\n",
      "apples\n",
      "bananas\n",
      "oranges\n"
     ]
    }
   ],
   "source": [
    "#apples bananas oranges\n",
    "my_lists=['apples','bananas','oranges']\n",
    "\n",
    "#join\n",
    "print(' '.join(my_lists)) #use space to join all items in list\n",
    "\n",
    "print('\\n'.join(my_lists)) #u"
   ]
  },
  {
   "cell_type": "code",
   "execution_count": 25,
   "metadata": {},
   "outputs": [
    {
     "name": "stdout",
     "output_type": "stream",
     "text": [
      "\n",
      "\n",
      "...\n",
      "\n",
      "\n"
     ]
    }
   ],
   "source": [
    "print(\"\\n\\n...\\n\\n\")"
   ]
  },
  {
   "cell_type": "code",
   "execution_count": 31,
   "metadata": {},
   "outputs": [
    {
     "name": "stdout",
     "output_type": "stream",
     "text": [
      "4\n",
      "ID number is: 87655\n"
     ]
    }
   ],
   "source": [
    "my_string =\"The ID number is: 87655\"\n",
    "print(my_string.find('ID'))\n",
    "print(my_string[4:])\n"
   ]
  },
  {
   "cell_type": "code",
   "execution_count": 33,
   "metadata": {},
   "outputs": [
    {
     "name": "stdout",
     "output_type": "stream",
     "text": [
      "first: anna\n",
      "first: f\n"
     ]
    }
   ],
   "source": [
    "my_string ='first: %s'%'anna'\n",
    "print(my_string)\n",
    "\n",
    "my_string ='first: %s'%(my_string[0])\n",
    "print(my_string)"
   ]
  },
  {
   "cell_type": "code",
   "execution_count": 39,
   "metadata": {},
   "outputs": [
    {
     "name": "stdout",
     "output_type": "stream",
     "text": [
      "['apples', 'bananas', 'oranges', 'cucumber']\n",
      "['apples', 'bananas', 'oranges']\n",
      "['avocado', 'bananas', 'oranges']\n"
     ]
    }
   ],
   "source": [
    "my_lists=['apples','bananas','oranges']\n",
    "#adding one element\n",
    "my_lists.append('cucumber')\n",
    "print(my_lists)\n",
    "#remove the list element\n",
    "my_lists.pop(-1)\n",
    "print(my_lists)\n",
    "#replace item\n",
    "my_lists[0]='avocado'\n",
    "print(my_lists)\n"
   ]
  },
  {
   "cell_type": "code",
   "execution_count": null,
   "metadata": {},
   "outputs": [],
   "source": []
  }
 ],
 "metadata": {
  "kernelspec": {
   "display_name": "Python 3",
   "language": "python",
   "name": "python3"
  },
  "language_info": {
   "codemirror_mode": {
    "name": "ipython",
    "version": 3
   },
   "file_extension": ".py",
   "mimetype": "text/x-python",
   "name": "python",
   "nbconvert_exporter": "python",
   "pygments_lexer": "ipython3",
   "version": "3.7.6"
  }
 },
 "nbformat": 4,
 "nbformat_minor": 4
}
