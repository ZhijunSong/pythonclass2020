{
 "cells": [
  {
   "cell_type": "markdown",
   "metadata": {},
   "source": [
    "# Practice Exercise"
   ]
  },
  {
   "cell_type": "code",
   "execution_count": 8,
   "metadata": {},
   "outputs": [
    {
     "name": "stdout",
     "output_type": "stream",
     "text": [
      "0\n",
      "1\n",
      "2\n",
      "3\n",
      "4\n",
      "5\n",
      "6\n",
      "7\n",
      "8\n",
      "9\n",
      "10\n"
     ]
    }
   ],
   "source": [
    "# 1) Print the first 10 natural numbers using a loop \n",
    "numList =[0,1,2,3,4,5,6,7,8,9,10]\n",
    "for i in numList:\n",
    "    print(i)"
   ]
  },
  {
   "cell_type": "code",
   "execution_count": 9,
   "metadata": {},
   "outputs": [
    {
     "name": "stdout",
     "output_type": "stream",
     "text": [
      "0\n",
      "1\n",
      "2\n",
      "3\n",
      "4\n",
      "5\n",
      "6\n",
      "7\n",
      "8\n",
      "9\n",
      "10\n"
     ]
    }
   ],
   "source": [
    "# 2) Execute the loop in Question 1 and print the message Done! after \n",
    "\n",
    "for i in range(11):\n",
    "    print(i)"
   ]
  },
  {
   "cell_type": "code",
   "execution_count": 4,
   "metadata": {},
   "outputs": [
    {
     "name": "stdout",
     "output_type": "stream",
     "text": [
      "157\n",
      "178\n",
      "189\n"
     ]
    }
   ],
   "source": [
    "# 3) Print the numbers greater than 150 from the list \n",
    "\n",
    "# list = [12, 15, 47, 63, 78, 101, 157, 178, 189]\n",
    "\n",
    "list = [12, 15, 47, 63, 78, 101, 157, 178, 189]\n",
    "\n",
    "for i in list:\n",
    "    if i >150:\n",
    "        print(i)"
   ]
  },
  {
   "cell_type": "code",
   "execution_count": 11,
   "metadata": {},
   "outputs": [
    {
     "name": "stdout",
     "output_type": "stream",
     "text": [
      "12\n",
      "78\n",
      "12\n",
      "78\n"
     ]
    }
   ],
   "source": [
    "# 4) Print the number that is even and less than 150 \n",
    "\n",
    "#using and operator\n",
    "list = [12, 15, 47, 63, 78, 101, 157, 178, 189]\n",
    "for i in list:\n",
    "    if i <150 and i%2==0:\n",
    "        print(i)\n",
    "\n",
    "#using break\n",
    "list2 = [12, 15, 47, 63, 78, 101, 157, 178, 189] \n",
    "\n",
    "for item in list2: \n",
    "    if (item) > 150:  \n",
    "        break\n",
    "    if (item % 2 == 0): ## this means the remainder is 0 which indicates its an even number\n",
    "        print(item)"
   ]
  },
  {
   "cell_type": "code",
   "execution_count": 18,
   "metadata": {},
   "outputs": [
    {
     "name": "stdout",
     "output_type": "stream",
     "text": [
      "Tail!\n",
      "\n",
      "Head!\n",
      "\n",
      "Tail!\n",
      "\n",
      "Head!\n",
      "\n",
      "Head!\n",
      "\n",
      "Head!\n",
      "\n",
      "Tail!\n",
      "\n",
      "Head!\n",
      "\n",
      "Head!\n",
      "\n",
      "Head!\n",
      "\n",
      "You flipped heads 7 times \n",
      "\n",
      "and you flipped tails 3 times \n"
     ]
    }
   ],
   "source": [
    "# 5) BONUS \n",
    "\n",
    "# Flip a coin 10 times \n",
    "# Hint: Look into the random library using: \n",
    "# import random \n",
    "\n",
    "import random \n",
    "counter = 0\n",
    "head =0\n",
    "tail=0\n",
    "\n",
    "while counter<10:\n",
    "    x = random.randint(1,2)\n",
    "    counter+=1\n",
    "    if x ==1:\n",
    "        print('Head!\\n')\n",
    "        head+=1\n",
    "    elif x ==2:\n",
    "        print('Tail!\\n')\n",
    "        tail+=1\n",
    "\n",
    "print(\"You flipped heads\", head, \"times \")\n",
    "print(\"\\nand you flipped tails\", tail, \"times \")  \n",
    "\n",
    "    "
   ]
  },
  {
   "cell_type": "code",
   "execution_count": 19,
   "metadata": {},
   "outputs": [
    {
     "name": "stdout",
     "output_type": "stream",
     "text": [
      "Head!\n",
      "\n",
      "Head!\n",
      "\n",
      "Head!\n",
      "\n",
      "Head!\n",
      "\n",
      "Head!\n",
      "\n",
      "Head!\n",
      "\n",
      "Tail!\n",
      "\n",
      "Tail!\n",
      "\n",
      "Head!\n",
      "\n",
      "Head!\n",
      "\n",
      "You flipped heads 8 times \n",
      "\n",
      "and you flipped tails 2 times \n"
     ]
    }
   ],
   "source": [
    "# ANSWER KEY\n",
    "import random \n",
    "counter = 0\n",
    "head =0\n",
    "tail=0\n",
    "\n",
    "while counter<10:\n",
    "    x = random.random()\n",
    "    counter+=1\n",
    "    if x <0.5:\n",
    "        print('Head!\\n')\n",
    "        head+=1\n",
    "    elif x>=0.5:\n",
    "        print('Tail!\\n')\n",
    "        tail+=1\n",
    "\n",
    "print(\"You flipped heads\", head, \"times \")\n",
    "print(\"\\nand you flipped tails\", tail, \"times \")  "
   ]
  },
  {
   "cell_type": "markdown",
   "metadata": {},
   "source": [
    "#### Remember, there are multiple ways to answer the question, these are some of the ways"
   ]
  },
  {
   "cell_type": "code",
   "execution_count": 6,
   "metadata": {},
   "outputs": [
    {
     "name": "stdout",
     "output_type": "stream",
     "text": [
      "0\n",
      "1\n",
      "2\n",
      "3\n",
      "4\n",
      "5\n",
      "6\n",
      "7\n",
      "8\n",
      "9\n",
      "10\n"
     ]
    }
   ],
   "source": [
    "# Question 1 \n",
    "\n",
    "i = 0\n",
    "while i <= 10:\n",
    "    print(i)\n",
    "    i += 1"
   ]
  },
  {
   "cell_type": "code",
   "execution_count": 7,
   "metadata": {},
   "outputs": [
    {
     "name": "stdout",
     "output_type": "stream",
     "text": [
      "0\n",
      "1\n",
      "2\n",
      "3\n",
      "4\n",
      "5\n",
      "6\n",
      "7\n",
      "8\n",
      "9\n",
      "10\n",
      "Done!\n"
     ]
    }
   ],
   "source": [
    "# Question 2\n",
    "\n",
    "i = 0\n",
    "while i <= 10:\n",
    "    print(i)\n",
    "    i += 1\n",
    "else: \n",
    "    print(\"Done!\")  \n",
    "\n",
    "        "
   ]
  },
  {
   "cell_type": "code",
   "execution_count": 8,
   "metadata": {},
   "outputs": [
    {
     "name": "stdout",
     "output_type": "stream",
     "text": [
      "0\n",
      "1\n",
      "2\n",
      "3\n",
      "4\n",
      "5\n",
      "6\n",
      "7\n",
      "8\n",
      "9\n",
      "10\n",
      "Done!\n"
     ]
    }
   ],
   "source": [
    "# Question 2 (alternative)\n",
    "\n",
    "for i in range (11): #range() is a function \n",
    "    print (i)\n",
    "else: \n",
    "    print(\"Done!\")"
   ]
  },
  {
   "cell_type": "code",
   "execution_count": 9,
   "metadata": {},
   "outputs": [
    {
     "name": "stdout",
     "output_type": "stream",
     "text": [
      "157\n",
      "178\n",
      "189\n"
     ]
    }
   ],
   "source": [
    "# Question 3 \n",
    "\n",
    "list = [12, 15, 47, 63, 78, 101, 157, 178, 189] \n",
    "\n",
    "for item in list: \n",
    "    if (item > 150):\n",
    "        print(item)"
   ]
  },
  {
   "cell_type": "code",
   "execution_count": 9,
   "metadata": {},
   "outputs": [
    {
     "name": "stdout",
     "output_type": "stream",
     "text": [
      "12\n",
      "78\n"
     ]
    }
   ],
   "source": [
    "# Question 4 \n",
    "\n",
    "list = [12, 15, 47, 63, 78, 101, 157, 178, 189] \n",
    "\n",
    "for item in list: \n",
    "    if (item) < 150 and (item % 2 == 0): ## this means the remainder is 0 which indicates its an even number\n",
    "        print(item)"
   ]
  },
  {
   "cell_type": "code",
   "execution_count": 11,
   "metadata": {},
   "outputs": [
    {
     "name": "stdout",
     "output_type": "stream",
     "text": [
      "12\n",
      "78\n"
     ]
    }
   ],
   "source": [
    "# Question 4 (alternative)\n",
    "\n",
    "list = [12, 15, 47, 63, 78, 101, 157, 178, 189] \n",
    "\n",
    "for item in list: \n",
    "    if (item) > 150:  \n",
    "        break\n",
    "    if (item % 2 == 0): ## this means the remainder is 0 which indicates its an even number\n",
    "        print(item)"
   ]
  },
  {
   "cell_type": "markdown",
   "metadata": {},
   "source": [
    "### Flipping a coin 10 times! "
   ]
  },
  {
   "cell_type": "code",
   "execution_count": 11,
   "metadata": {},
   "outputs": [
    {
     "name": "stdout",
     "output_type": "stream",
     "text": [
      "Heads!\n",
      "\n",
      "Heads!\n",
      "\n",
      "Tails!\n",
      "\n",
      "Tails!\n",
      "\n",
      "Tails!\n",
      "\n",
      "Tails!\n",
      "\n",
      "Heads!\n",
      "\n",
      "Tails!\n",
      "\n",
      "Heads!\n",
      "\n",
      "Heads!\n",
      "\n",
      "\n",
      "Okay, you flipped heads 5 times \n",
      "\n",
      "and you flipped tails 5 times \n"
     ]
    }
   ],
   "source": [
    "import random\n",
    "\n",
    "total_heads = 0\n",
    "total_tails = 0\n",
    "count = 0\n",
    "\n",
    "\n",
    "while count < 10:\n",
    "\n",
    "    coin = random.randint(1, 2)\n",
    "\n",
    "    if coin == 1:\n",
    "        print(\"Heads!\\n\") # \\n means new line \n",
    "        total_heads += 1\n",
    "        count += 1\n",
    "\n",
    "    elif coin == 2:\n",
    "        print(\"Tails!\\n\")\n",
    "        total_tails += 1\n",
    "        count += 1\n",
    "\n",
    "print(\"\\nOkay, you flipped heads\", total_heads, \"times \")\n",
    "print(\"\\nand you flipped tails\", total_tails, \"times \")"
   ]
  },
  {
   "cell_type": "code",
   "execution_count": null,
   "metadata": {},
   "outputs": [],
   "source": []
  }
 ],
 "metadata": {
  "kernelspec": {
   "display_name": "Python 3",
   "language": "python",
   "name": "python3"
  },
  "language_info": {
   "codemirror_mode": {
    "name": "ipython",
    "version": 3
   },
   "file_extension": ".py",
   "mimetype": "text/x-python",
   "name": "python",
   "nbconvert_exporter": "python",
   "pygments_lexer": "ipython3",
   "version": "3.7.6"
  }
 },
 "nbformat": 4,
 "nbformat_minor": 2
}
