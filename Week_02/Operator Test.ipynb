{
 "cells": [
  {
   "cell_type": "code",
   "execution_count": null,
   "metadata": {},
   "outputs": [
    {
     "name": "stdout",
     "output_type": "stream",
     "text": [
      "\n",
      "    Please type in the operator you want to use :\n",
      "    + for addition\n",
      "    - for substraction\n",
      "    * for multiplication\n",
      "    / for division\n",
      "    10\n",
      "Enter first number here:30\n",
      "Enter Second number here:10\n",
      "you have an invalid operator\n",
      "\n",
      "    Do you want to calculate again?\n",
      "    Press y for yes and n for no.\n",
      "    y\n",
      "\n",
      "    Please type in the operator you want to use :\n",
      "    + for addition\n",
      "    - for substraction\n",
      "    * for multiplication\n",
      "    / for division\n",
      "    +\n",
      "Enter first number here:20\n",
      "Enter Second number here:30\n",
      "20 + 30 =\n",
      "50\n"
     ]
    }
   ],
   "source": [
    "def calculation():\n",
    "    \n",
    "    operator = input('''\n",
    "    Please type in the operator you want to use :\n",
    "    + for addition\n",
    "    - for substraction\n",
    "    * for multiplication\n",
    "    / for division\n",
    "    ''')\n",
    "\n",
    "    number_1 =int(input(\"Enter first number here:\"))\n",
    "    number_2 =int(input(\"Enter Second number here:\"))\n",
    "\n",
    "    #addition\n",
    "    if operator =='+':\n",
    "        print(number_1,'+',number_2,'=')\n",
    "        print(number_1+number_2)\n",
    "\n",
    "\n",
    "    #substraction\n",
    "    elif operator =='-':\n",
    "        print(number_1,'-',number_2,'=')\n",
    "        print(number_1-number_2)\n",
    "    #multi\n",
    "    elif operator =='*':\n",
    "        print(number_1,'*',number_2,'=')\n",
    "        print(number_1*number_2)\n",
    "    #division\n",
    "    elif operator =='/':\n",
    "        print(number_1,'/',number_2,'=')\n",
    "        print(number_1/number_2)\n",
    "    else:\n",
    "        print('you have an invalid operator')\n",
    "    again()\n",
    "    \n",
    "def again():\n",
    "    calc_again = input('''\n",
    "    Do you want to calculate again?\n",
    "    Press y for yes and n for no.\n",
    "    ''')\n",
    "    if calc_again =='y':\n",
    "        calculation()\n",
    "    elif calc_again=='n':\n",
    "        print('Terminate project')\n",
    "    else:\n",
    "        again()\n",
    "calculation()\n",
    "\n"
   ]
  },
  {
   "cell_type": "code",
   "execution_count": null,
   "metadata": {},
   "outputs": [],
   "source": []
  },
  {
   "cell_type": "code",
   "execution_count": null,
   "metadata": {},
   "outputs": [],
   "source": []
  }
 ],
 "metadata": {
  "kernelspec": {
   "display_name": "Python 3",
   "language": "python",
   "name": "python3"
  },
  "language_info": {
   "codemirror_mode": {
    "name": "ipython",
    "version": 3
   },
   "file_extension": ".py",
   "mimetype": "text/x-python",
   "name": "python",
   "nbconvert_exporter": "python",
   "pygments_lexer": "ipython3",
   "version": "3.7.6"
  }
 },
 "nbformat": 4,
 "nbformat_minor": 4
}
